{
 "cells": [
  {
   "cell_type": "code",
   "execution_count": null,
   "metadata": {},
   "outputs": [],
   "source": [
    "import cv2\n",
    "import numpy as np\n",
    "import os\n",
    "from distances import find_distance, distance_metrics\n",
    "from histogram import pyramid_rep_hist\n",
    "import get_images_and_labels\n",
    "import evaluation as eval\n",
    "import sys\n",
    "import utils\n",
    "import background_removal as bg\n",
    "import pickle as pkl\n"
   ]
  },
  {
   "cell_type": "code",
   "execution_count": null,
   "metadata": {},
   "outputs": [],
   "source": [
    "import descriptor"
   ]
  },
  {
   "cell_type": "code",
   "execution_count": null,
   "metadata": {},
   "outputs": [],
   "source": [
    "import matplotlib.pyplot as plt\n",
    "import random\n",
    "from itertools import product"
   ]
  },
  {
   "cell_type": "code",
   "execution_count": null,
   "metadata": {},
   "outputs": [],
   "source": [
    "cur_path = os.getcwd()"
   ]
  },
  {
   "cell_type": "code",
   "execution_count": null,
   "metadata": {},
   "outputs": [],
   "source": [
    "qsd1_w3 = get_images_and_labels.get_query_set_images(cur_path, \"qsd1_w3\")\n",
    "qsd2_w3 = get_images_and_labels.get_query_set_images(cur_path, \"qsd2_w3\")\n",
    "qsd2_w3_masks = get_images_and_labels.get_qsd2_masks(cur_path, \"qsd2_w3\")\n",
    "\n",
    "#qst1_w3 = get_images_and_labels.get_query_set_images(os.getcwd(), \"qst1_w3\")\n",
    "#qst2_w2 = get_images_and_labels.get_query_set_images(os.getcwd(), \"qst2_w3\")"
   ]
  },
  {
   "cell_type": "code",
   "execution_count": null,
   "metadata": {},
   "outputs": [],
   "source": [
    "#Load Ground Truth corresponding frames\n",
    "with open(\"qsd1_w3/gt_corresps.pkl\", \"rb\") as f:\n",
    "    ground_truth_1 = pkl.load(f)\n",
    "\n",
    "with open(\"qsd2_w3/gt_corresps.pkl\", \"rb\") as f:\n",
    "    ground_truth_2 = pkl.load(f)\n",
    "\n",
    "#Load ground truth bounding boxes\n",
    "with open(\"qsd1_w3/text_boxes.pkl\", \"rb\") as f:\n",
    "    ground_truth_bb1 = pkl.load(f)\n",
    "\n",
    "with open(\"qsd2_w3/text_boxes.pkl\", \"rb\") as f:\n",
    "    ground_truth_bb2 = pkl.load(f)\n",
    "\n",
    "#Load frames\n",
    "with open(\"qsd1_w3/augmentations.pkl\", \"rb\") as f:\n",
    "    augmentations_1 = pkl.load(f)\n",
    "\n",
    "with open(\"qsd2_w3/augmentations.pkl\", \"rb\") as f:\n",
    "    augmentations_2 = pkl.load(f)"
   ]
  },
  {
   "cell_type": "code",
   "execution_count": null,
   "metadata": {},
   "outputs": [],
   "source": [
    "idx = random.randint(0, len(qsd2_w3)-1)\n",
    "print(f\"Index : {idx}\")\n",
    "print(f\"Corresponding image(s) : {ground_truth_2[idx]}\" )\n",
    "print(f\"Corresponding textboxe(s) : {ground_truth_bb2[idx]}\")\n",
    "print(f\"Augmentation : {augmentations_2[idx]}\")"
   ]
  },
  {
   "cell_type": "code",
   "execution_count": null,
   "metadata": {},
   "outputs": [],
   "source": [
    "idx = random.randint(0, len(qsd1_w3)-1)\n",
    "image = qsd1_w3[idx]\n",
    "\n",
    "f, axs = plt.subplots(1,2, figsize=(15,10))\n",
    "axs[0].imshow(cv2.cvtColor(image, cv2.COLOR_BGR2RGB))\n",
    "pyramid = pyramid_rep_hist(image, \"RGB\", level=2)\n",
    "axs[1].plot(pyramid)"
   ]
  },
  {
   "cell_type": "code",
   "execution_count": null,
   "metadata": {},
   "outputs": [],
   "source": [
    "idx = random.randint(0, len(qsd1_w3)-1)\n",
    "image = qsd1_w3[idx]\n",
    "\n",
    "f, axs = plt.subplots(1,2, figsize=(15,10))\n",
    "axs[0].imshow(cv2.cvtColor(image, cv2.COLOR_BGR2RGB))\n",
    "dct = descriptor.dct_coefficients(image, num_coeff=90)\n",
    "axs[1].plot(dct)\n",
    "dct.shape"
   ]
  },
  {
   "cell_type": "code",
   "execution_count": null,
   "metadata": {},
   "outputs": [],
   "source": [
    "bbdd_imgs = get_images_and_labels.get_museum_dataset(cur_path)\n",
    "#bbdd_lbp = utils.get_descriptor(\"BBDD\", cur_path=cur_path, imgs=bbdd_imgs, level=level, desc_method=\"LBP\")\n",
    "#bbdd_dct = utils.get_descriptor(\"BBDD\", cur_path=cur_path, imgs=bbdd_imgs, level=level, desc_method=\"DCT\")\n",
    "\n",
    "qsd1_w3 = get_images_and_labels.get_query_set_images(cur_path, \"qsd1_w3/non_augmented/\")\n",
    "#qsd1_w3_lbp = utils.get_descriptor(\"qsd1_w3\", cur_path=cur_path, imgs=qsd1_w3, level=level, desc_method=\"LBP\")\n",
    "#qsd1_w3_dct = utils.get_descriptor(\"qsd1_w3\", cur_path=cur_path, imgs=qsd1_w3, level=level, desc_method=\"DCT\")"
   ]
  },
  {
   "cell_type": "code",
   "execution_count": null,
   "metadata": {},
   "outputs": [],
   "source": [
    "for distance in distance_metrics.keys():\n",
    "    eval.evaluate_query_set(query_set_imgs=qsd1_w3, museum_imgs=bbdd_imgs, cur_path=cur_path, level=4, query_set=\"qsd1_w3\", desc_method=\"LBP\", distance_metric=distance)\n",
    "    print(\"#######################################\")"
   ]
  },
  {
   "cell_type": "code",
   "execution_count": null,
   "metadata": {},
   "outputs": [],
   "source": [
    "for distance in distance_metrics.keys():\n",
    "    eval.evaluate_query_set(query_set_imgs=qsd1_w3, museum_imgs=bbdd_imgs, cur_path=cur_path, level=4, query_set=\"qsd1_w3\", desc_method=\"DCT\", distance_metric=distance)\n",
    "    print(\"#######################################\")"
   ]
  },
  {
   "cell_type": "code",
   "execution_count": null,
   "metadata": {},
   "outputs": [],
   "source": [
    "for distance in distance_metrics.keys():\n",
    "    eval.evaluate_query_set(query_set_imgs=qsd1_w3, museum_imgs=bbdd_imgs, cur_path=cur_path, level=4, query_set=\"qsd1_w3\", desc_method=\"3d\", distance_metric=distance)\n",
    "    print(\"#######################################\")"
   ]
  },
  {
   "cell_type": "code",
   "execution_count": null,
   "metadata": {},
   "outputs": [],
   "source": []
  }
 ],
 "metadata": {
  "interpreter": {
   "hash": "ed51388e4fd55541ce75a3aa4cb662aee3fa24f2e7167610076634fa11620cc2"
  },
  "kernelspec": {
   "display_name": "Python 3.9.7 64-bit ('py39': conda)",
   "name": "python3"
  },
  "language_info": {
   "codemirror_mode": {
    "name": "ipython",
    "version": 3
   },
   "file_extension": ".py",
   "mimetype": "text/x-python",
   "name": "python",
   "nbconvert_exporter": "python",
   "pygments_lexer": "ipython3",
   "version": "3.9.7"
  },
  "orig_nbformat": 4
 },
 "nbformat": 4,
 "nbformat_minor": 2
}
