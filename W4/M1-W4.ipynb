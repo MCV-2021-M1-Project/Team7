{
 "cells": [
  {
   "cell_type": "code",
   "execution_count": 1,
   "id": "handed-sunset",
   "metadata": {},
   "outputs": [],
   "source": [
    "from get_images_and_labels import *\n",
    "import numpy as np\n",
    "from utils import denoise_image, lowe_filter\n",
    "from evaluation import remove_background_and_eval, mapk\n",
    "import cv2"
   ]
  },
  {
   "cell_type": "markdown",
   "id": "dependent-addition",
   "metadata": {},
   "source": [
    "## Get the Data"
   ]
  },
  {
   "cell_type": "code",
   "execution_count": 2,
   "id": "eight-quick",
   "metadata": {
    "collapsed": true
   },
   "outputs": [
    {
     "name": "stdout",
     "output_type": "stream",
     "text": [
      "Removing backgrounds!\n"
     ]
    },
    {
     "name": "stderr",
     "output_type": "stream",
     "text": [
      "C:\\Users\\myaza\\Week4\\evaluation.py:418: RuntimeWarning: invalid value encountered in double_scalars\n",
      "  f1_score = 2*precision*recall/(precision+recall)\n"
     ]
    },
    {
     "name": "stdout",
     "output_type": "stream",
     "text": [
      "Precision: 0.8979281985506441 Recall: 0.9374705793047161 F1: nan\n"
     ]
    }
   ],
   "source": [
    "labels = get_query_set_labels(os.getcwd(), \"qsd1_w4\")\n",
    "\n",
    "qs = get_query_set_images(os.getcwd(), \"qsd1_w4\")\n",
    "bbdd = get_museum_dataset(os.getcwd())\n",
    "\n",
    "qs = [denoise_image(img) for img in qs]\n",
    "qs = remove_background_and_eval(qs, os.getcwd(), \"qsd1_w4\", True)"
   ]
  },
  {
   "cell_type": "code",
   "execution_count": 59,
   "id": "driven-telling",
   "metadata": {},
   "outputs": [],
   "source": [
    "def match_algorithm(desc1, desc2, method=\"BF\", k=2):\n",
    "    \n",
    "    if method == \"flann\":\n",
    "    \n",
    "        index = dict(algorithm=0, trees=5)\n",
    "        search = dict(checks=50)\n",
    "        flann = cv2.FlannBasedMatcher(index, search)\n",
    "        matches = flann.knnMatch(desc1, desc2, k)\n",
    "        \n",
    "    elif method==\"BF\":\n",
    "        bf = cv2.BFMatcher(cv2.NORM_HAMMING)\n",
    "        matches = bf.knnMatch(desc1, desc2, k=k)      \n",
    "    \n",
    "    return lowe_filter(matches)"
   ]
  },
  {
   "cell_type": "code",
   "execution_count": 69,
   "id": "fixed-sequence",
   "metadata": {},
   "outputs": [],
   "source": [
    "def ORB(img, keypoint_size):\n",
    "\n",
    "    orb = cv2.ORB_create(keypoint_size)\n",
    "    return orb.detectAndCompute(img, None)\n",
    "\n",
    "def DAISY(img, keypoint_size):\n",
    "\n",
    "\n",
    "    daisy = cv2.xfeatures2d.DAISY_create(keypoint_size)\n",
    "    return daisy.detectAndCompute(img, None)\n",
    "\n",
    "def SIFT(img, keypoint_size):\n",
    "    \n",
    "    sift = cv2.SIFT_create(keypoint_size)\n",
    "    return sift.detectAndCompute(img, None)\n",
    "\n",
    "local_descs = {\n",
    "    \"SIFT\": SIFT,\n",
    "    \"ORB\": ORB,\n",
    "    \"DAISY\": DAISY\n",
    "}\n",
    "\n",
    "def get_local_descriptors(method, img, keypoint_size):\n",
    "    return local_descs[method](img, keypoint_size)"
   ]
  },
  {
   "cell_type": "markdown",
   "id": "behavioral-seven",
   "metadata": {},
   "source": [
    "# Create SIFT desciptors for museum and query set"
   ]
  },
  {
   "cell_type": "code",
   "execution_count": 70,
   "id": "measured-breach",
   "metadata": {},
   "outputs": [],
   "source": [
    "def calc_local_descs_matches(desc_method, match_type, keypoint_size):\n",
    "    bbdd_descs = []\n",
    "\n",
    "    for img in bbdd:\n",
    "        _, descs = get_local_descriptors(desc_method, img, keypoint_size)\n",
    "        bbdd_descs.append(descs)\n",
    "        \n",
    "    img_matches = []\n",
    "\n",
    "    for i, img in enumerate(qs):\n",
    "\n",
    "        painting_list = []\n",
    "        if not isinstance(img, list):\n",
    "            img = [img]\n",
    "\n",
    "        for painting in img:\n",
    "\n",
    "            _, img_desc = get_local_descriptors(desc_method, painting, keypoint_size)\n",
    "\n",
    "            if img_desc is None:\n",
    "                img_desc = []\n",
    "\n",
    "            else:\n",
    "                bbdd_match = []\n",
    "                for bbdd_desc in bbdd_descs:\n",
    "                    bbdd_match.append(match_algorithm(bbdd_desc, img_desc, method=match_type))\n",
    "\n",
    "                painting_list.append(bbdd_match)\n",
    "\n",
    "        img_matches.append(painting_list)\n",
    "        \n",
    "    return img_matches"
   ]
  },
  {
   "cell_type": "code",
   "execution_count": 71,
   "id": "distributed-industry",
   "metadata": {},
   "outputs": [],
   "source": [
    "def get_map_for_local_descs(img_matches, match_threshold):\n",
    "\n",
    "    final_match = []\n",
    "\n",
    "    for img in img_matches:\n",
    "\n",
    "        img_match = []\n",
    "\n",
    "        for painting in img:\n",
    "            painting_match = []\n",
    "\n",
    "            for matches in painting:\n",
    "                painting_match.append(len(matches))\n",
    "\n",
    "            if np.max(np.array(painting_match)) < match_threshold:\n",
    "                img_match.append([-1])\n",
    "            else:\n",
    "                img_match.append(np.argsort(np.array(painting_match))[::-1][:10])\n",
    "\n",
    "        final_match.append(img_match)\n",
    "\n",
    "    return round(mapk(labels, final_match, 1), 3)"
   ]
  },
  {
   "cell_type": "markdown",
   "id": "minimal-density",
   "metadata": {},
   "source": [
    "## SIFT 1000-150 0.48 mAP Flann\n",
    "\n",
    "## ORB 1250-50 0.63 mAP BF"
   ]
  },
  {
   "cell_type": "code",
   "execution_count": 93,
   "id": "cellular-apartment",
   "metadata": {
    "collapsed": true
   },
   "outputs": [
    {
     "ename": "KeyboardInterrupt",
     "evalue": "",
     "output_type": "error",
     "traceback": [
      "\u001b[1;31m---------------------------------------------------------------------------\u001b[0m",
      "\u001b[1;31mKeyboardInterrupt\u001b[0m                         Traceback (most recent call last)",
      "\u001b[1;32m~\\AppData\\Local\\Temp/ipykernel_13644/1003093415.py\u001b[0m in \u001b[0;36m<module>\u001b[1;34m\u001b[0m\n\u001b[0;32m      1\u001b[0m \u001b[1;32mfor\u001b[0m \u001b[0mks\u001b[0m \u001b[1;32min\u001b[0m \u001b[1;33m[\u001b[0m\u001b[1;36m500\u001b[0m\u001b[1;33m,\u001b[0m \u001b[1;36m750\u001b[0m\u001b[1;33m,\u001b[0m \u001b[1;36m1000\u001b[0m\u001b[1;33m,\u001b[0m \u001b[1;36m1250\u001b[0m\u001b[1;33m,\u001b[0m \u001b[1;36m1500\u001b[0m\u001b[1;33m]\u001b[0m\u001b[1;33m:\u001b[0m\u001b[1;33m\u001b[0m\u001b[1;33m\u001b[0m\u001b[0m\n\u001b[1;32m----> 2\u001b[1;33m     \u001b[0mimg_matches\u001b[0m \u001b[1;33m=\u001b[0m \u001b[0mcalc_local_descs_matches\u001b[0m\u001b[1;33m(\u001b[0m\u001b[1;34m\"SIFT\"\u001b[0m\u001b[1;33m,\u001b[0m \u001b[1;34m\"BF\"\u001b[0m\u001b[1;33m,\u001b[0m \u001b[0mks\u001b[0m\u001b[1;33m)\u001b[0m\u001b[1;33m\u001b[0m\u001b[1;33m\u001b[0m\u001b[0m\n\u001b[0m\u001b[0;32m      3\u001b[0m \u001b[1;33m\u001b[0m\u001b[0m\n\u001b[0;32m      4\u001b[0m     \u001b[1;32mfor\u001b[0m \u001b[0mthres\u001b[0m \u001b[1;32min\u001b[0m \u001b[1;33m[\u001b[0m\u001b[1;36m50\u001b[0m\u001b[1;33m,\u001b[0m \u001b[1;36m75\u001b[0m\u001b[1;33m,\u001b[0m \u001b[1;36m100\u001b[0m\u001b[1;33m,\u001b[0m \u001b[1;36m125\u001b[0m\u001b[1;33m,\u001b[0m \u001b[1;36m150\u001b[0m\u001b[1;33m,\u001b[0m \u001b[1;36m175\u001b[0m\u001b[1;33m,\u001b[0m \u001b[1;36m200\u001b[0m\u001b[1;33m]\u001b[0m\u001b[1;33m:\u001b[0m\u001b[1;33m\u001b[0m\u001b[1;33m\u001b[0m\u001b[0m\n\u001b[0;32m      5\u001b[0m         \u001b[0mmap\u001b[0m \u001b[1;33m=\u001b[0m \u001b[0mget_map_for_local_descs\u001b[0m\u001b[1;33m(\u001b[0m\u001b[0mimg_matches\u001b[0m\u001b[1;33m,\u001b[0m \u001b[0mthres\u001b[0m\u001b[1;33m)\u001b[0m\u001b[1;33m\u001b[0m\u001b[1;33m\u001b[0m\u001b[0m\n",
      "\u001b[1;32m~\\AppData\\Local\\Temp/ipykernel_13644/3030716655.py\u001b[0m in \u001b[0;36mcalc_local_descs_matches\u001b[1;34m(desc_method, match_type, keypoint_size)\u001b[0m\n\u001b[0;32m      3\u001b[0m \u001b[1;33m\u001b[0m\u001b[0m\n\u001b[0;32m      4\u001b[0m     \u001b[1;32mfor\u001b[0m \u001b[0mimg\u001b[0m \u001b[1;32min\u001b[0m \u001b[0mbbdd\u001b[0m\u001b[1;33m:\u001b[0m\u001b[1;33m\u001b[0m\u001b[1;33m\u001b[0m\u001b[0m\n\u001b[1;32m----> 5\u001b[1;33m         \u001b[0m_\u001b[0m\u001b[1;33m,\u001b[0m \u001b[0mdescs\u001b[0m \u001b[1;33m=\u001b[0m \u001b[0mget_local_descriptors\u001b[0m\u001b[1;33m(\u001b[0m\u001b[0mdesc_method\u001b[0m\u001b[1;33m,\u001b[0m \u001b[0mimg\u001b[0m\u001b[1;33m,\u001b[0m \u001b[0mkeypoint_size\u001b[0m\u001b[1;33m)\u001b[0m\u001b[1;33m\u001b[0m\u001b[1;33m\u001b[0m\u001b[0m\n\u001b[0m\u001b[0;32m      6\u001b[0m         \u001b[0mbbdd_descs\u001b[0m\u001b[1;33m.\u001b[0m\u001b[0mappend\u001b[0m\u001b[1;33m(\u001b[0m\u001b[0mdescs\u001b[0m\u001b[1;33m)\u001b[0m\u001b[1;33m\u001b[0m\u001b[1;33m\u001b[0m\u001b[0m\n\u001b[0;32m      7\u001b[0m \u001b[1;33m\u001b[0m\u001b[0m\n",
      "\u001b[1;32m~\\AppData\\Local\\Temp/ipykernel_13644/1019679704.py\u001b[0m in \u001b[0;36mget_local_descriptors\u001b[1;34m(method, img, keypoint_size)\u001b[0m\n\u001b[0;32m     22\u001b[0m \u001b[1;33m\u001b[0m\u001b[0m\n\u001b[0;32m     23\u001b[0m \u001b[1;32mdef\u001b[0m \u001b[0mget_local_descriptors\u001b[0m\u001b[1;33m(\u001b[0m\u001b[0mmethod\u001b[0m\u001b[1;33m,\u001b[0m \u001b[0mimg\u001b[0m\u001b[1;33m,\u001b[0m \u001b[0mkeypoint_size\u001b[0m\u001b[1;33m)\u001b[0m\u001b[1;33m:\u001b[0m\u001b[1;33m\u001b[0m\u001b[1;33m\u001b[0m\u001b[0m\n\u001b[1;32m---> 24\u001b[1;33m     \u001b[1;32mreturn\u001b[0m \u001b[0mlocal_descs\u001b[0m\u001b[1;33m[\u001b[0m\u001b[0mmethod\u001b[0m\u001b[1;33m]\u001b[0m\u001b[1;33m(\u001b[0m\u001b[0mimg\u001b[0m\u001b[1;33m,\u001b[0m \u001b[0mkeypoint_size\u001b[0m\u001b[1;33m)\u001b[0m\u001b[1;33m\u001b[0m\u001b[1;33m\u001b[0m\u001b[0m\n\u001b[0m",
      "\u001b[1;32m~\\AppData\\Local\\Temp/ipykernel_13644/1019679704.py\u001b[0m in \u001b[0;36mSIFT\u001b[1;34m(img, keypoint_size)\u001b[0m\n\u001b[0;32m     13\u001b[0m \u001b[1;33m\u001b[0m\u001b[0m\n\u001b[0;32m     14\u001b[0m     \u001b[0msift\u001b[0m \u001b[1;33m=\u001b[0m \u001b[0mcv2\u001b[0m\u001b[1;33m.\u001b[0m\u001b[0mSIFT_create\u001b[0m\u001b[1;33m(\u001b[0m\u001b[0mkeypoint_size\u001b[0m\u001b[1;33m)\u001b[0m\u001b[1;33m\u001b[0m\u001b[1;33m\u001b[0m\u001b[0m\n\u001b[1;32m---> 15\u001b[1;33m     \u001b[1;32mreturn\u001b[0m \u001b[0msift\u001b[0m\u001b[1;33m.\u001b[0m\u001b[0mdetectAndCompute\u001b[0m\u001b[1;33m(\u001b[0m\u001b[0mimg\u001b[0m\u001b[1;33m,\u001b[0m \u001b[1;32mNone\u001b[0m\u001b[1;33m)\u001b[0m\u001b[1;33m\u001b[0m\u001b[1;33m\u001b[0m\u001b[0m\n\u001b[0m\u001b[0;32m     16\u001b[0m \u001b[1;33m\u001b[0m\u001b[0m\n\u001b[0;32m     17\u001b[0m local_descs = {\n",
      "\u001b[1;31mKeyboardInterrupt\u001b[0m: "
     ]
    }
   ],
   "source": [
    "for ks in [500, 750, 1000, 1250, 1500]:\n",
    "    img_matches = calc_local_descs_matches(\"SIFT\", \"BF\", ks)  \n",
    "    \n",
    "    for thres in [50, 75, 100, 125, 150, 175, 200]:\n",
    "        map = get_map_for_local_descs(img_matches, thres)\n",
    "        \n",
    "        print(\"For Keypoint Size:\", ks, \"and threshold:\", thres, \"mAP is\", map)"
   ]
  },
  {
   "cell_type": "code",
   "execution_count": 94,
   "id": "standard-harvey",
   "metadata": {},
   "outputs": [
    {
     "name": "stdout",
     "output_type": "stream",
     "text": [
      "For Keypoint Size: 500 and threshold: 50 mAP is 0.371\n",
      "For Keypoint Size: 500 and threshold: 75 mAP is 0.343\n",
      "For Keypoint Size: 500 and threshold: 100 mAP is 0.343\n",
      "For Keypoint Size: 500 and threshold: 125 mAP is 0.343\n",
      "For Keypoint Size: 500 and threshold: 150 mAP is 0.314\n",
      "For Keypoint Size: 500 and threshold: 175 mAP is 0.314\n",
      "For Keypoint Size: 500 and threshold: 200 mAP is 0.314\n",
      "For Keypoint Size: 750 and threshold: 50 mAP is 0.429\n",
      "For Keypoint Size: 750 and threshold: 75 mAP is 0.371\n",
      "For Keypoint Size: 750 and threshold: 100 mAP is 0.343\n",
      "For Keypoint Size: 750 and threshold: 125 mAP is 0.343\n",
      "For Keypoint Size: 750 and threshold: 150 mAP is 0.343\n",
      "For Keypoint Size: 750 and threshold: 175 mAP is 0.343\n",
      "For Keypoint Size: 750 and threshold: 200 mAP is 0.314\n",
      "For Keypoint Size: 1000 and threshold: 50 mAP is 0.486\n",
      "For Keypoint Size: 1000 and threshold: 75 mAP is 0.4\n",
      "For Keypoint Size: 1000 and threshold: 100 mAP is 0.4\n",
      "For Keypoint Size: 1000 and threshold: 125 mAP is 0.4\n",
      "For Keypoint Size: 1000 and threshold: 150 mAP is 0.371\n",
      "For Keypoint Size: 1000 and threshold: 175 mAP is 0.343\n",
      "For Keypoint Size: 1000 and threshold: 200 mAP is 0.343\n",
      "For Keypoint Size: 1250 and threshold: 50 mAP is 0.6\n",
      "For Keypoint Size: 1250 and threshold: 75 mAP is 0.486\n",
      "For Keypoint Size: 1250 and threshold: 100 mAP is 0.4\n",
      "For Keypoint Size: 1250 and threshold: 125 mAP is 0.4\n",
      "For Keypoint Size: 1250 and threshold: 150 mAP is 0.4\n",
      "For Keypoint Size: 1250 and threshold: 175 mAP is 0.371\n",
      "For Keypoint Size: 1250 and threshold: 200 mAP is 0.371\n",
      "For Keypoint Size: 1500 and threshold: 50 mAP is 0.629\n",
      "For Keypoint Size: 1500 and threshold: 75 mAP is 0.571\n",
      "For Keypoint Size: 1500 and threshold: 100 mAP is 0.514\n",
      "For Keypoint Size: 1500 and threshold: 125 mAP is 0.429\n",
      "For Keypoint Size: 1500 and threshold: 150 mAP is 0.4\n",
      "For Keypoint Size: 1500 and threshold: 175 mAP is 0.4\n",
      "For Keypoint Size: 1500 and threshold: 200 mAP is 0.4\n"
     ]
    }
   ],
   "source": [
    "for ks in [500, 750, 1000, 1250, 1500]:\n",
    "    img_matches = calc_local_descs_matches(\"ORB\", \"BF\", ks)  \n",
    "    \n",
    "    for thres in [50, 75, 100, 125, 150, 175, 200]:\n",
    "        map = get_map_for_local_descs(img_matches, thres)\n",
    "        \n",
    "        print(\"For Keypoint Size:\", ks, \"and threshold:\", thres, \"mAP is\", map)"
   ]
  }
 ],
 "metadata": {
  "kernelspec": {
   "display_name": "m1_env",
   "language": "python",
   "name": "m1_env"
  },
  "language_info": {
   "codemirror_mode": {
    "name": "ipython",
    "version": 3
   },
   "file_extension": ".py",
   "mimetype": "text/x-python",
   "name": "python",
   "nbconvert_exporter": "python",
   "pygments_lexer": "ipython3",
   "version": "3.9.7"
  }
 },
 "nbformat": 4,
 "nbformat_minor": 5
}
