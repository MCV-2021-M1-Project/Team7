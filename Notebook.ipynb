{
 "cells": [
  {
   "cell_type": "markdown",
   "metadata": {},
   "source": [
    "# Week 1 Notebook"
   ]
  },
  {
   "cell_type": "markdown",
   "metadata": {},
   "source": [
    "## Imports"
   ]
  },
  {
   "cell_type": "code",
   "execution_count": null,
   "metadata": {},
   "outputs": [],
   "source": [
    "#Main Imports\n",
    "import cv2\n",
    "import numpy as np\n",
    "import os\n",
    "from distances import find_distance, distance_metrics\n",
    "from histogram import calc_3d_hist, calc_1d_hist\n",
    "import get_images_and_labels\n",
    "import evaluation as eval\n",
    "import pickle\n",
    "import glob\n"
   ]
  },
  {
   "cell_type": "code",
   "execution_count": null,
   "metadata": {},
   "outputs": [],
   "source": [
    "#Notebook imports\n",
    "import matplotlib.pyplot as plt\n",
    "import random"
   ]
  },
  {
   "cell_type": "code",
   "execution_count": null,
   "metadata": {},
   "outputs": [],
   "source": [
    "cur_path = os.getcwd()\n",
    "\n",
    "# Available color_spaces\n",
    "color_spaces = {\n",
    "\"RGB\": cv2.COLOR_BGR2RGB,\n",
    "\"HSV\": cv2.COLOR_BGR2HSV,\n",
    "\"YCRCB\": cv2.COLOR_BGR2YCrCb,\n",
    "\"LAB\": cv2.COLOR_BGR2LAB\n",
    "}"
   ]
  },
  {
   "cell_type": "code",
   "execution_count": null,
   "metadata": {},
   "outputs": [],
   "source": [
    "DISPLAY_ALL = False\n",
    "CONVERT_RGB = False"
   ]
  },
  {
   "cell_type": "code",
   "execution_count": null,
   "metadata": {},
   "outputs": [],
   "source": [
    "if CONVERT_RGB : \n",
    "    # Get the 3 images dataset or \n",
    "    if DISPLAY_ALL:\n",
    "        museum_imgs = [cv2.cvtColor(image, color_spaces[\"RGB\"]) for image in get_images_and_labels.get_museum_dataset(cur_path)]\n",
    "        query_set1_imgs = [cv2.cvtColor(image, color_spaces[\"RGB\"]) for image in get_images_and_labels.get_query_set_images(cur_path, \"qsd1\")]\n",
    "    query_set2_imgs = [cv2.cvtColor(image, color_spaces[\"RGB\"]) for image in get_images_and_labels.get_query_set_images(cur_path, \"qsd2\")]\n",
    "else:\n",
    "    if DISPLAY_ALL:\n",
    "        museum_imgs = get_images_and_labels.get_museum_dataset(cur_path)\n",
    "        query_set1_imgs = get_images_and_labels.get_query_set_images(cur_path, \"qsd1\")\n",
    "    query_set2_imgs = get_images_and_labels.get_query_set_images(cur_path, \"qsd2\")\n",
    "\n",
    "#Get Query Set 2 Masks\n",
    "query_set2_masks = [cv2.cvtColor(mask, cv2.COLOR_BGR2GRAY).astype(\"bool\") for mask in get_images_and_labels.get_qsd2_masks(cur_path)]"
   ]
  },
  {
   "cell_type": "code",
   "execution_count": null,
   "metadata": {},
   "outputs": [],
   "source": [
    "if DISPLAY_ALL:\n",
    "    f, axs = plt.subplots(1,3, figsize=(30,10))\n",
    "\n",
    "    axs[0].imshow(random.choice(museum_imgs))\n",
    "    axs[0].title.set_text(\"Museum Dataset\")\n",
    "    axs[1].imshow(random.choice(query_set1_imgs))\n",
    "    axs[1].title.set_text(\"Query Dataset 1 \")\n",
    "    axs[2].imshow(random.choice(query_set2_imgs))\n",
    "    axs[2].title.set_text(\"Query Dataset 2\")\n",
    "    for ax in axs:\n",
    "        ax.axis('off') "
   ]
  },
  {
   "cell_type": "code",
   "execution_count": null,
   "metadata": {},
   "outputs": [],
   "source": [
    "from itertools import product\n",
    "f, axs = plt.subplots(3,3, figsize=(30,30))\n",
    "\n",
    "for i in range(3):\n",
    "    idx = random.randint(0,len(query_set2_imgs)-1)\n",
    "    axs[i,0].imshow(query_set2_imgs[idx])\n",
    "    axs[i,1].imshow(query_set2_masks[idx])\n",
    "    axs[i,2].imshow(query_set2_imgs[idx]*query_set2_masks[idx][:,:,None], cmap=\"gray\")\n",
    "\n",
    "for i,j in product(range(3), range(3)):\n",
    "    axs[i,j].axis('off')"
   ]
  },
  {
   "cell_type": "code",
   "execution_count": null,
   "metadata": {},
   "outputs": [],
   "source": [
    "def background_removal(image, ):\n",
    "    \"\"\"\n",
    "    Remove background from image.\n",
    "    This functions takes an image as input and return a mask of where it believes the picture is.\n",
    "    Parameters\n",
    "    ----------\n",
    "    image : numpy array\n",
    "            An array containing the image you want to remove the background.\n",
    "    Returns\n",
    "    -------\n",
    "    mask : numpy array\n",
    "            The mask corresponding to the believed position of the painting on the image.\n",
    "    \"\"\"\n",
    "\n",
    "    LIMIT = 10\n",
    "\n",
    "    if len(image.shape) > 2:\n",
    "        image = cv2.cvtColor(image, cv2.COLOR_BGR2GRAY)\n",
    "    \n",
    "    h, w = image.shape\n",
    "    mask = np.zeros_like(image) + 1\n",
    "\n",
    "    for i in range(h):\n",
    "        for j in range(w-1):\n",
    "                if abs(int(image[i,j]) - int(image[i,j+1])) <= LIMIT:\n",
    "                        mask[i,j] = 0\n",
    "                else:\n",
    "                        break\n",
    "        for j in range(w-1,0,-1):\n",
    "                if abs(int(image[i,j]) - int(image[i,j-1])) <= LIMIT:\n",
    "                        mask[i,j] = 0\n",
    "                else:\n",
    "                        break\n",
    "    for j in range(w):\n",
    "        for i in range(h-1):\n",
    "                if abs(int(image[i,j]) - int(image[i+1,j])) <= LIMIT:\n",
    "                        mask[i,j] = 0\n",
    "                else:\n",
    "                        break\n",
    "        for i in range(h-1,0,-1):\n",
    "                if abs(int(image[i-1,j]) - int(image[i,j])) <= LIMIT:\n",
    "                        mask[i,j] = 0\n",
    "                else:\n",
    "                        break\n",
    "\n",
    "    return mask\n"
   ]
  },
  {
   "cell_type": "code",
   "execution_count": null,
   "metadata": {},
   "outputs": [],
   "source": [
    "def enhance_mask(mask):\n",
    "    num_labels, im_labels = cv2.connectedComponents(mask)\n",
    "    \n",
    "    max_area, best_label = 0 , -1\n",
    "    for label in range(num_labels):\n",
    "        #If the background area is larger than the picture, we don't want the background\n",
    "        if im_labels[0,0] == label:\n",
    "            continue\n",
    "\n",
    "        area = np.sum(im_labels == label)\n",
    "        if area > max_area:\n",
    "            best_label = label\n",
    "            max_area = area\n",
    "    \n",
    "    enhanced_mask = np.array(im_labels == best_label)\n",
    "\n",
    "    return enhanced_mask\n"
   ]
  },
  {
   "cell_type": "code",
   "execution_count": null,
   "metadata": {},
   "outputs": [],
   "source": [
    "def enhance_mask_2(mask):\n",
    "    \"\"\"\n",
    "    Enhance mask quality by removing artifacts.\n",
    "    This functions takes a mask as input and return a better quality mask by keeping only the biggest connected component.\n",
    "    Parameters\n",
    "    ----------\n",
    "    mask : numpy array\n",
    "            An array containing the mask you want to enhance.\n",
    "    Returns\n",
    "    -------\n",
    "    mask : numpy array\n",
    "            The enhanced mask.\n",
    "    \"\"\"\n",
    "    num_labels, im_labels = cv2.connectedComponents(mask)\n",
    "    \n",
    "    max_area, best_label = 0 , -1\n",
    "    for label in range(num_labels):\n",
    "        #If the background area is larger than the picture, we don't want the background\n",
    "        if im_labels[0,0] == label:\n",
    "            continue\n",
    "\n",
    "        area = np.sum(im_labels == label)\n",
    "        if area > max_area:\n",
    "            best_label = label\n",
    "            max_area = area\n",
    "    \n",
    "    enhanced_mask = np.array(im_labels == best_label)\n",
    "\n",
    "    contours,_ = cv2.findContours(enhanced_mask.astype(\"uint8\"), 1, 2)\n",
    "    cnt = contours[0]\n",
    "    y,x,w,h = cv2.boundingRect(cnt)\n",
    "    #print(w,mask.shape[1]-y-1,h, mask.shape[0]-x-1)\n",
    "    w,h = min(w, mask.shape[1]-y-1), min(h, mask.shape[0]-x-1) \n",
    "    #print(w,h)\n",
    "\n",
    "    can_improve = True\n",
    "\n",
    "    while can_improve:\n",
    "        #Top, right, bottom, left corners average binary value.\n",
    "        borders = [np.mean(enhanced_mask[x,y:(y+w)]), np.mean(enhanced_mask[x:(x+h),y+w]) , np.mean(enhanced_mask[x+h,y:(y+w)]), np.mean(enhanced_mask[x:(x+h),y]) ]\n",
    "        \n",
    "        if np.min(borders) < 0.6:\n",
    "            to_cut = np.argsort(borders)[0]\n",
    "            if to_cut == 0:\n",
    "                x += 1\n",
    "                h -= 1\n",
    "            elif to_cut == 1 :\n",
    "                w -= 1\n",
    "            elif to_cut == 2:\n",
    "                h -=1\n",
    "            elif to_cut == 3:\n",
    "                y += 1\n",
    "                w -= 1    \n",
    "        else:\n",
    "            can_improve = False\n",
    "\n",
    "    straight_mask = np.zeros_like(enhanced_mask).astype(\"bool\")\n",
    "    straight_mask[x:(x+h),y:(y+w)] = True\n",
    "\n",
    "    return straight_mask, (x,y,w,h)\n"
   ]
  },
  {
   "cell_type": "code",
   "execution_count": null,
   "metadata": {},
   "outputs": [],
   "source": [
    "def evaluate_mask(predicted_mask, true_mask):\n",
    "    \"\"\"\n",
    "    Evaluates predicted mask precision, recall and F1-measure.\n",
    "    Parameters\n",
    "    ----------\n",
    "    predicted_mask : numpy array\n",
    "            An array containing the mask predicted by the background remover.\n",
    "    true_mask : numpy array\n",
    "            An array containing the true mask of the picture location.\n",
    "    Returns\n",
    "    -------\n",
    "    precision : float\n",
    "            Precision of the prediction = TP/(TP+FP)\n",
    "    Recall : float\n",
    "            Recall of the prediction = TP/(TP+FN)\n",
    "    F1-Measure : float\n",
    "            F1-Measure of the prediction = 2*(Precision . Recall)/(Precision + Recall)\n",
    "    \"\"\"\n",
    "\n",
    "    #Compute the True Positives, False Positives, False Negatives\n",
    "    TP = np.sum(true_mask*predicted_mask)\n",
    "    FP = np.sum(predicted_mask) - TP\n",
    "    FN = np.sum(true_mask) - TP\n",
    "\n",
    "    #Compute the precision, recall, f1-score\n",
    "    precision = TP / (TP+FP)\n",
    "    recall = TP/ (TP+FN)\n",
    "    f1_score = 2*precision*recall/(precision+recall)\n",
    "\n",
    "    return precision, recall, f1_score"
   ]
  },
  {
   "cell_type": "code",
   "execution_count": null,
   "metadata": {},
   "outputs": [],
   "source": [
    "idx = random.randint(0,len(query_set2_imgs)-1)\n",
    "idx = 11\n",
    "image, mask = query_set2_imgs[idx], query_set2_masks[idx]\n",
    "hist_1d = calc_1d_hist(image)\n",
    "hist_3d = calc_3d_hist(image)"
   ]
  },
  {
   "cell_type": "code",
   "execution_count": null,
   "metadata": {},
   "outputs": [],
   "source": [
    "predicted_mask = background_removal(image)\n",
    "\n",
    "f, axs = plt.subplots(1,3, figsize=(30,10))\n",
    "axs[0].imshow(cv2.cvtColor(image, color_spaces[\"RGB\"]))\n",
    "axs[0].title.set_text(\"Original Image\")\n",
    "axs[1].imshow(predicted_mask, cmap=\"gray\")\n",
    "axs[1].title.set_text(\"Predicted Mask\")\n",
    "axs[2].imshow(mask, cmap=\"gray\")\n",
    "axs[2].title.set_text(\"True Mask\")\n",
    "plt.savefig(\"saved_images/predicted_mask.png\")"
   ]
  },
  {
   "cell_type": "code",
   "execution_count": null,
   "metadata": {},
   "outputs": [],
   "source": [
    "enhanced_mask = enhance_mask(predicted_mask)\n",
    "\n",
    "f, axs = plt.subplots(1,3, figsize=(30,10))\n",
    "axs[0].imshow(cv2.cvtColor(image, color_spaces[\"RGB\"]))\n",
    "axs[0].title.set_text(\"Original Image\")\n",
    "axs[1].imshow(enhanced_mask, cmap=\"gray\")\n",
    "axs[1].title.set_text(\"Enhanced Mask\")\n",
    "axs[2].imshow(mask, cmap=\"gray\")\n",
    "axs[2].title.set_text(\"True Mask\")\n",
    "plt.savefig(\"saved_images/enhanced_mask.png\")\n"
   ]
  },
  {
   "cell_type": "code",
   "execution_count": null,
   "metadata": {},
   "outputs": [],
   "source": [
    "enhanced_mask_2,_ = enhance_mask_2(predicted_mask)\n",
    "\n",
    "f, axs = plt.subplots(1,3, figsize=(30,10))\n",
    "axs[0].imshow(cv2.cvtColor(image, color_spaces[\"RGB\"]))\n",
    "axs[0].title.set_text(\"Original Image\")\n",
    "axs[1].imshow(enhanced_mask_2, cmap=\"gray\")\n",
    "axs[1].title.set_text(\"Enhanced Mask\")\n",
    "axs[2].imshow(mask, cmap=\"gray\")\n",
    "axs[2].title.set_text(\"True Mask\")\n",
    "plt.savefig(\"saved_images/straight_mask.png\")"
   ]
  },
  {
   "cell_type": "code",
   "execution_count": null,
   "metadata": {},
   "outputs": [],
   "source": [
    "print(\"First function : \", evaluate_mask(enhanced_mask,mask))\n",
    "print(\"Second function : \", evaluate_mask(enhanced_mask_2,mask))"
   ]
  },
  {
   "cell_type": "code",
   "execution_count": null,
   "metadata": {},
   "outputs": [],
   "source": [
    "RUN_ALL = True\n",
    "\n",
    "if RUN_ALL :\n",
    "\n",
    "    for idx, image in enumerate(query_set2_imgs[:20]):\n",
    "        true_mask = query_set2_masks[idx]\n",
    "        predicted_mask = background_removal(image)\n",
    "        enhanced_mask = (enhance_mask(predicted_mask)*255).astype(\"uint8\")\n",
    "        contours,_ = cv2.findContours(enhanced_mask, 1, 2)\n",
    "        cnt = contours[0]\n",
    "        y,x,w,h = cv2.boundingRect(cnt)\n",
    "        w,h = min(w, mask.shape[1]-y-2), min(h, mask.shape[0]-x-2) \n",
    "\n",
    "        enhanced_mask = cv2.cvtColor(enhanced_mask, cv2.COLOR_GRAY2RGB)\n",
    "        enhanced_mask[x,y:(y+w),:] = [0,255,0]\n",
    "        enhanced_mask[x+h,y:(y+w),:] = [0,255,0]    \n",
    "        enhanced_mask[x:x+h,y,:] = [0,255,0]\n",
    "        enhanced_mask[x:x+h,(y+w),:] = [0,255,0]\n",
    "\n",
    "        enhanced_mask_2,_ = enhance_mask_2(predicted_mask)\n",
    "\n",
    "        f, axs = plt.subplots(1,4, figsize=(30,10))\n",
    "        axs[0].imshow(cv2.cvtColor(image, color_spaces[\"RGB\"]))\n",
    "        axs[0].title.set_text(\"Original Image\")\n",
    "        axs[1].imshow(enhanced_mask)\n",
    "        axs[1].title.set_text(\"Enhanced Mask\")\n",
    "        axs[2].imshow(true_mask, cmap=\"gray\")\n",
    "        axs[2].title.set_text(\"True Mask\")\n",
    "        axs[3].imshow(enhanced_mask_2, cmap=\"gray\")\n",
    "        axs[3].title.set_text(\"Straightened Mask\")\n",
    "\n",
    "        axs[0].axis('off')\n",
    "        axs[1].axis('off')\n",
    "        axs[2].axis('off')"
   ]
  },
  {
   "cell_type": "code",
   "execution_count": 35,
   "metadata": {},
   "outputs": [
    {
     "data": {
      "text/plain": [
       "'00002.png'"
      ]
     },
     "execution_count": 35,
     "metadata": {},
     "output_type": "execute_result"
    }
   ],
   "source": []
  },
  {
   "cell_type": "code",
   "execution_count": null,
   "metadata": {},
   "outputs": [],
   "source": []
  }
 ],
 "metadata": {
  "interpreter": {
   "hash": "ab128c5810be6a726a56133e99d7f3aab96eb1e4f8b3726450243a62d2b8c988"
  },
  "kernelspec": {
   "display_name": "Python 3.8.11 64-bit ('base': conda)",
   "name": "python3"
  },
  "language_info": {
   "codemirror_mode": {
    "name": "ipython",
    "version": 3
   },
   "file_extension": ".py",
   "mimetype": "text/x-python",
   "name": "python",
   "nbconvert_exporter": "python",
   "pygments_lexer": "ipython3",
   "version": "3.8.11"
  },
  "orig_nbformat": 4
 },
 "nbformat": 4,
 "nbformat_minor": 2
}
